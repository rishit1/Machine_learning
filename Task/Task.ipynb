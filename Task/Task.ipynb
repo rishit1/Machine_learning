{
 "cells": [
  {
   "cell_type": "code",
   "execution_count": 1,
   "id": "91421781",
   "metadata": {},
   "outputs": [],
   "source": [
    "import numpy as np\n",
    "import pandas as pd"
   ]
  },
  {
   "cell_type": "code",
   "execution_count": 2,
   "id": "d487a650",
   "metadata": {},
   "outputs": [
    {
     "data": {
      "text/html": [
       "<div>\n",
       "<style scoped>\n",
       "    .dataframe tbody tr th:only-of-type {\n",
       "        vertical-align: middle;\n",
       "    }\n",
       "\n",
       "    .dataframe tbody tr th {\n",
       "        vertical-align: top;\n",
       "    }\n",
       "\n",
       "    .dataframe thead th {\n",
       "        text-align: right;\n",
       "    }\n",
       "</style>\n",
       "<table border=\"1\" class=\"dataframe\">\n",
       "  <thead>\n",
       "    <tr style=\"text-align: right;\">\n",
       "      <th></th>\n",
       "      <th>Name</th>\n",
       "      <th>Price</th>\n",
       "      <th>Place</th>\n",
       "      <th>color</th>\n",
       "      <th>Cuisine</th>\n",
       "      <th>Taste</th>\n",
       "    </tr>\n",
       "  </thead>\n",
       "  <tbody>\n",
       "    <tr>\n",
       "      <th>0</th>\n",
       "      <td>Paneer</td>\n",
       "      <td>90</td>\n",
       "      <td>jaipur</td>\n",
       "      <td>White</td>\n",
       "      <td>Indian</td>\n",
       "      <td>sweet</td>\n",
       "    </tr>\n",
       "    <tr>\n",
       "      <th>1</th>\n",
       "      <td>pizza</td>\n",
       "      <td>150</td>\n",
       "      <td>pune</td>\n",
       "      <td>yellow</td>\n",
       "      <td>japanese</td>\n",
       "      <td>sour</td>\n",
       "    </tr>\n",
       "    <tr>\n",
       "      <th>2</th>\n",
       "      <td>sandwich</td>\n",
       "      <td>40</td>\n",
       "      <td>Chennai</td>\n",
       "      <td>White</td>\n",
       "      <td>Indian</td>\n",
       "      <td>salty</td>\n",
       "    </tr>\n",
       "    <tr>\n",
       "      <th>3</th>\n",
       "      <td>bread</td>\n",
       "      <td>80</td>\n",
       "      <td>jaipur</td>\n",
       "      <td>White</td>\n",
       "      <td>Thai</td>\n",
       "      <td>sweet</td>\n",
       "    </tr>\n",
       "    <tr>\n",
       "      <th>4</th>\n",
       "      <td>Seafood</td>\n",
       "      <td>100</td>\n",
       "      <td>Mumbai</td>\n",
       "      <td>Red</td>\n",
       "      <td>Italian</td>\n",
       "      <td>savory</td>\n",
       "    </tr>\n",
       "    <tr>\n",
       "      <th>5</th>\n",
       "      <td>ice cream</td>\n",
       "      <td>40</td>\n",
       "      <td>Delhi</td>\n",
       "      <td>Yellow</td>\n",
       "      <td>Thai</td>\n",
       "      <td>creamy</td>\n",
       "    </tr>\n",
       "    <tr>\n",
       "      <th>6</th>\n",
       "      <td>dhokla</td>\n",
       "      <td>70</td>\n",
       "      <td>pune</td>\n",
       "      <td>Yellow</td>\n",
       "      <td>Indian</td>\n",
       "      <td>spicy</td>\n",
       "    </tr>\n",
       "    <tr>\n",
       "      <th>7</th>\n",
       "      <td>Chicken</td>\n",
       "      <td>200</td>\n",
       "      <td>Kolkata</td>\n",
       "      <td>Light red</td>\n",
       "      <td>japanese</td>\n",
       "      <td>spicy</td>\n",
       "    </tr>\n",
       "    <tr>\n",
       "      <th>8</th>\n",
       "      <td>Biryani</td>\n",
       "      <td>50</td>\n",
       "      <td>pune</td>\n",
       "      <td>Light red</td>\n",
       "      <td>Spanish</td>\n",
       "      <td>spicy</td>\n",
       "    </tr>\n",
       "    <tr>\n",
       "      <th>9</th>\n",
       "      <td>Kofta</td>\n",
       "      <td>70</td>\n",
       "      <td>Hyderbad</td>\n",
       "      <td>Yellow</td>\n",
       "      <td>Spanish</td>\n",
       "      <td>spicy</td>\n",
       "    </tr>\n",
       "    <tr>\n",
       "      <th>10</th>\n",
       "      <td>dal bati</td>\n",
       "      <td>230</td>\n",
       "      <td>jaipur</td>\n",
       "      <td>brown</td>\n",
       "      <td>japanese</td>\n",
       "      <td>spicy</td>\n",
       "    </tr>\n",
       "    <tr>\n",
       "      <th>11</th>\n",
       "      <td>burger</td>\n",
       "      <td>20</td>\n",
       "      <td>Bhopal</td>\n",
       "      <td>brown</td>\n",
       "      <td>Italian</td>\n",
       "      <td>salty</td>\n",
       "    </tr>\n",
       "  </tbody>\n",
       "</table>\n",
       "</div>"
      ],
      "text/plain": [
       "         Name  Price     Place      color   Cuisine   Taste\n",
       "0      Paneer     90    jaipur      White    Indian   sweet\n",
       "1       pizza    150      pune     yellow  japanese    sour\n",
       "2    sandwich     40   Chennai      White    Indian   salty\n",
       "3       bread     80    jaipur      White      Thai   sweet\n",
       "4     Seafood    100    Mumbai        Red   Italian  savory\n",
       "5   ice cream     40     Delhi     Yellow      Thai  creamy\n",
       "6      dhokla     70      pune     Yellow    Indian   spicy\n",
       "7     Chicken    200   Kolkata  Light red  japanese   spicy\n",
       "8     Biryani     50      pune  Light red   Spanish   spicy\n",
       "9       Kofta     70  Hyderbad     Yellow   Spanish   spicy\n",
       "10   dal bati    230    jaipur      brown  japanese   spicy\n",
       "11     burger     20    Bhopal      brown   Italian   salty"
      ]
     },
     "execution_count": 2,
     "metadata": {},
     "output_type": "execute_result"
    }
   ],
   "source": [
    " food=pd.DataFrame([['Paneer',90,'jaipur','White','Indian','sweet'],\n",
    "                   ['pizza',150,'pune','yellow','japanese','sour'],\n",
    "                   ['sandwich',40,'Chennai','White','Indian','salty'],\n",
    "                   ['bread',80,'jaipur','White','Thai','sweet'],\n",
    "                   ['Seafood',100,'Mumbai','Red','Italian','savory'],\n",
    "                   ['ice cream',40,'Delhi','Yellow','Thai','creamy'],\n",
    "                   ['dhokla',70,'pune','Yellow','Indian','spicy'],\n",
    "                   ['Chicken',200,'Kolkata','Light red','japanese','spicy'],\n",
    "                   ['Biryani',50,'pune','Light red','Spanish','spicy'],\n",
    "                   ['Kofta',70,'Hyderbad','Yellow','Spanish','spicy'],\n",
    "                   ['dal bati',230,'jaipur','brown','japanese','spicy'],\n",
    "                   ['burger',20,'Bhopal','brown','Italian','salty']\n",
    "                  ]\n",
    "                  ,columns=['Name','Price','Place','color','Cuisine','Taste'])\n",
    "food"
   ]
  },
  {
   "cell_type": "markdown",
   "id": "9739246c",
   "metadata": {},
   "source": [
    "# Expensive dish"
   ]
  },
  {
   "cell_type": "code",
   "execution_count": 3,
   "id": "9cf01d69",
   "metadata": {},
   "outputs": [
    {
     "name": "stdout",
     "output_type": "stream",
     "text": [
      "Costliest Dish Name =  dal bati \n",
      "Dish Price = 230\n"
     ]
    }
   ],
   "source": [
    "\n",
    "for x in food.index:\n",
    "    if food.loc[x,'Price']==food['Price'].max():\n",
    "         print('Costliest Dish Name = ',food.loc[x,'Name'],'\\nDish Price =',food.loc[x,'Price'])"
   ]
  },
  {
   "cell_type": "code",
   "execution_count": 4,
   "id": "a5001d9f",
   "metadata": {},
   "outputs": [
    {
     "data": {
      "text/html": [
       "<div>\n",
       "<style scoped>\n",
       "    .dataframe tbody tr th:only-of-type {\n",
       "        vertical-align: middle;\n",
       "    }\n",
       "\n",
       "    .dataframe tbody tr th {\n",
       "        vertical-align: top;\n",
       "    }\n",
       "\n",
       "    .dataframe thead th {\n",
       "        text-align: right;\n",
       "    }\n",
       "</style>\n",
       "<table border=\"1\" class=\"dataframe\">\n",
       "  <thead>\n",
       "    <tr style=\"text-align: right;\">\n",
       "      <th></th>\n",
       "      <th>Name</th>\n",
       "      <th>Price</th>\n",
       "      <th>Place</th>\n",
       "      <th>color</th>\n",
       "      <th>Cuisine</th>\n",
       "      <th>Taste</th>\n",
       "      <th>Rating</th>\n",
       "    </tr>\n",
       "  </thead>\n",
       "  <tbody>\n",
       "    <tr>\n",
       "      <th>0</th>\n",
       "      <td>Paneer</td>\n",
       "      <td>90</td>\n",
       "      <td>jaipur</td>\n",
       "      <td>White</td>\n",
       "      <td>Indian</td>\n",
       "      <td>sweet</td>\n",
       "      <td>4.4</td>\n",
       "    </tr>\n",
       "    <tr>\n",
       "      <th>1</th>\n",
       "      <td>pizza</td>\n",
       "      <td>150</td>\n",
       "      <td>pune</td>\n",
       "      <td>yellow</td>\n",
       "      <td>japanese</td>\n",
       "      <td>sour</td>\n",
       "      <td>5.0</td>\n",
       "    </tr>\n",
       "    <tr>\n",
       "      <th>2</th>\n",
       "      <td>sandwich</td>\n",
       "      <td>40</td>\n",
       "      <td>Chennai</td>\n",
       "      <td>White</td>\n",
       "      <td>Indian</td>\n",
       "      <td>salty</td>\n",
       "      <td>1.3</td>\n",
       "    </tr>\n",
       "    <tr>\n",
       "      <th>3</th>\n",
       "      <td>bread</td>\n",
       "      <td>80</td>\n",
       "      <td>jaipur</td>\n",
       "      <td>White</td>\n",
       "      <td>Thai</td>\n",
       "      <td>sweet</td>\n",
       "      <td>5.0</td>\n",
       "    </tr>\n",
       "    <tr>\n",
       "      <th>4</th>\n",
       "      <td>Seafood</td>\n",
       "      <td>100</td>\n",
       "      <td>Mumbai</td>\n",
       "      <td>Red</td>\n",
       "      <td>Italian</td>\n",
       "      <td>savory</td>\n",
       "      <td>3.0</td>\n",
       "    </tr>\n",
       "    <tr>\n",
       "      <th>5</th>\n",
       "      <td>ice cream</td>\n",
       "      <td>40</td>\n",
       "      <td>Delhi</td>\n",
       "      <td>Yellow</td>\n",
       "      <td>Thai</td>\n",
       "      <td>creamy</td>\n",
       "      <td>3.5</td>\n",
       "    </tr>\n",
       "    <tr>\n",
       "      <th>6</th>\n",
       "      <td>dhokla</td>\n",
       "      <td>70</td>\n",
       "      <td>pune</td>\n",
       "      <td>Yellow</td>\n",
       "      <td>Indian</td>\n",
       "      <td>spicy</td>\n",
       "      <td>2.4</td>\n",
       "    </tr>\n",
       "    <tr>\n",
       "      <th>7</th>\n",
       "      <td>Chicken</td>\n",
       "      <td>200</td>\n",
       "      <td>Kolkata</td>\n",
       "      <td>Light red</td>\n",
       "      <td>japanese</td>\n",
       "      <td>spicy</td>\n",
       "      <td>2.2</td>\n",
       "    </tr>\n",
       "    <tr>\n",
       "      <th>8</th>\n",
       "      <td>Biryani</td>\n",
       "      <td>50</td>\n",
       "      <td>pune</td>\n",
       "      <td>Light red</td>\n",
       "      <td>Spanish</td>\n",
       "      <td>spicy</td>\n",
       "      <td>5.0</td>\n",
       "    </tr>\n",
       "    <tr>\n",
       "      <th>9</th>\n",
       "      <td>Kofta</td>\n",
       "      <td>70</td>\n",
       "      <td>Hyderbad</td>\n",
       "      <td>Yellow</td>\n",
       "      <td>Spanish</td>\n",
       "      <td>spicy</td>\n",
       "      <td>4.4</td>\n",
       "    </tr>\n",
       "    <tr>\n",
       "      <th>10</th>\n",
       "      <td>dal bati</td>\n",
       "      <td>230</td>\n",
       "      <td>jaipur</td>\n",
       "      <td>brown</td>\n",
       "      <td>japanese</td>\n",
       "      <td>spicy</td>\n",
       "      <td>1.4</td>\n",
       "    </tr>\n",
       "    <tr>\n",
       "      <th>11</th>\n",
       "      <td>burger</td>\n",
       "      <td>20</td>\n",
       "      <td>Bhopal</td>\n",
       "      <td>brown</td>\n",
       "      <td>Italian</td>\n",
       "      <td>salty</td>\n",
       "      <td>5.0</td>\n",
       "    </tr>\n",
       "  </tbody>\n",
       "</table>\n",
       "</div>"
      ],
      "text/plain": [
       "         Name  Price     Place      color   Cuisine   Taste  Rating\n",
       "0      Paneer     90    jaipur      White    Indian   sweet     4.4\n",
       "1       pizza    150      pune     yellow  japanese    sour     5.0\n",
       "2    sandwich     40   Chennai      White    Indian   salty     1.3\n",
       "3       bread     80    jaipur      White      Thai   sweet     5.0\n",
       "4     Seafood    100    Mumbai        Red   Italian  savory     3.0\n",
       "5   ice cream     40     Delhi     Yellow      Thai  creamy     3.5\n",
       "6      dhokla     70      pune     Yellow    Indian   spicy     2.4\n",
       "7     Chicken    200   Kolkata  Light red  japanese   spicy     2.2\n",
       "8     Biryani     50      pune  Light red   Spanish   spicy     5.0\n",
       "9       Kofta     70  Hyderbad     Yellow   Spanish   spicy     4.4\n",
       "10   dal bati    230    jaipur      brown  japanese   spicy     1.4\n",
       "11     burger     20    Bhopal      brown   Italian   salty     5.0"
      ]
     },
     "execution_count": 4,
     "metadata": {},
     "output_type": "execute_result"
    }
   ],
   "source": [
    "food['Rating']=pd.Series([4.4,5,1.3,5,3,3.5,2.4,2.2,5,4.4,1.4,5],index=range(0,12))\n",
    "food"
   ]
  },
  {
   "cell_type": "markdown",
   "id": "99dab47a",
   "metadata": {},
   "source": [
    "# Cheapest dish"
   ]
  },
  {
   "cell_type": "code",
   "execution_count": 8,
   "id": "0cf8038c",
   "metadata": {},
   "outputs": [
    {
     "name": "stdout",
     "output_type": "stream",
     "text": [
      "Cheapest Dish =  burger \n",
      "Dish Price =  20\n"
     ]
    }
   ],
   "source": [
    "for x in food.index:\n",
    "    if food.loc[x,'Price']==food[\"Price\"].min():\n",
    "         print('Cheapest Dish = ',food.loc[x,'Name'],'\\nDish Price = ',food.loc[x,'Price'])"
   ]
  },
  {
   "cell_type": "markdown",
   "id": "384f65de",
   "metadata": {},
   "source": [
    "# White food find in jaipur"
   ]
  },
  {
   "cell_type": "code",
   "execution_count": 9,
   "id": "45f497bd",
   "metadata": {},
   "outputs": [
    {
     "name": "stdout",
     "output_type": "stream",
     "text": [
      "white food name in jaipur= Paneer\n",
      "white food name in jaipur= bread\n"
     ]
    }
   ],
   "source": [
    "d1=food[food['color']==\"White\"]\n",
    "for x in d1.index:\n",
    "    if food.loc[x,'Place']==\"jaipur\":\n",
    "        print('white food name in jaipur=',food.loc[x,'Name'])"
   ]
  },
  {
   "cell_type": "markdown",
   "id": "41285b8f",
   "metadata": {},
   "source": [
    "# which cuisine most popular"
   ]
  },
  {
   "cell_type": "code",
   "execution_count": 10,
   "id": "e9a48cd2",
   "metadata": {},
   "outputs": [
    {
     "name": "stdout",
     "output_type": "stream",
     "text": [
      "Most Popular Cuisine =  japanese \n",
      "Dish Rating =  5.0\n",
      "Most Popular Cuisine =  Thai \n",
      "Dish Rating =  5.0\n",
      "Most Popular Cuisine =  Spanish \n",
      "Dish Rating =  5.0\n",
      "Most Popular Cuisine =  Italian \n",
      "Dish Rating =  5.0\n"
     ]
    }
   ],
   "source": [
    "for x in food.index:\n",
    "    if food.loc[x,'Rating']==food[\"Rating\"].max():\n",
    "          print('Most Popular Cuisine = ',food.loc[x,'Cuisine'],'\\nDish Rating = ',food.loc[x,'Rating'])"
   ]
  },
  {
   "cell_type": "markdown",
   "id": "2145ef00",
   "metadata": {},
   "source": [
    "# food which is available in pune and is spicy"
   ]
  },
  {
   "cell_type": "code",
   "execution_count": 11,
   "id": "3ffd0e4e",
   "metadata": {},
   "outputs": [
    {
     "data": {
      "text/plain": [
       "6     dhokla\n",
       "8    Biryani\n",
       "Name: Name, dtype: object"
      ]
     },
     "execution_count": 11,
     "metadata": {},
     "output_type": "execute_result"
    }
   ],
   "source": [
    "food['Name'][(food['Place']=='pune')&(food['Taste']=='spicy')]"
   ]
  },
  {
   "cell_type": "markdown",
   "id": "9898b68d",
   "metadata": {},
   "source": [
    "# count of different tastes for foods"
   ]
  },
  {
   "cell_type": "code",
   "execution_count": 12,
   "id": "4359c434",
   "metadata": {},
   "outputs": [
    {
     "data": {
      "text/plain": [
       "spicy     5\n",
       "sweet     2\n",
       "salty     2\n",
       "savory    1\n",
       "creamy    1\n",
       "sour      1\n",
       "Name: Taste, dtype: int64"
      ]
     },
     "execution_count": 12,
     "metadata": {},
     "output_type": "execute_result"
    }
   ],
   "source": [
    "food['Taste'].value_counts()"
   ]
  },
  {
   "cell_type": "code",
   "execution_count": null,
   "id": "3a284cda",
   "metadata": {},
   "outputs": [],
   "source": []
  }
 ],
 "metadata": {
  "kernelspec": {
   "display_name": "Python 3",
   "language": "python",
   "name": "python3"
  },
  "language_info": {
   "codemirror_mode": {
    "name": "ipython",
    "version": 3
   },
   "file_extension": ".py",
   "mimetype": "text/x-python",
   "name": "python",
   "nbconvert_exporter": "python",
   "pygments_lexer": "ipython3",
   "version": "3.8.8"
  }
 },
 "nbformat": 4,
 "nbformat_minor": 5
}
